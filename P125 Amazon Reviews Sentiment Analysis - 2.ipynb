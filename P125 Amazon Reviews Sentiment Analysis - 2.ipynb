{
 "cells": [
  {
   "cell_type": "markdown",
   "id": "cdb8ed4c",
   "metadata": {},
   "source": [
    "### Model Building"
   ]
  },
  {
   "cell_type": "code",
   "execution_count": 1,
   "id": "57bbab7f",
   "metadata": {},
   "outputs": [],
   "source": [
    "#Importing Necessary Libraries\n",
    "import pandas as pd\n",
    "import  numpy as np\n",
    "import re\n",
    "from nltk.corpus import stopwords\n",
    "from nltk.stem import PorterStemmer\n",
    "from nltk.stem import WordNetLemmatizer\n",
    "ps = PorterStemmer()\n",
    "ls = WordNetLemmatizer()\n",
    "\n",
    "from sklearn.metrics import accuracy_score,confusion_matrix,auc,classification_report,recall_score,precision_score,precision_recall_curve,f1_score,roc_curve"
   ]
  },
  {
   "cell_type": "code",
   "execution_count": 2,
   "id": "c3d0e248",
   "metadata": {},
   "outputs": [],
   "source": [
    "import warnings\n",
    "warnings.filterwarnings('ignore')"
   ]
  },
  {
   "cell_type": "code",
   "execution_count": 3,
   "id": "601e4624",
   "metadata": {},
   "outputs": [],
   "source": [
    "#Loading Dataset\n",
    "reviews=pd.read_csv('Preprocessed_Dataset.csv')"
   ]
  },
  {
   "cell_type": "code",
   "execution_count": 4,
   "id": "24bc729f",
   "metadata": {},
   "outputs": [
    {
     "data": {
      "text/html": [
       "<div>\n",
       "<style scoped>\n",
       "    .dataframe tbody tr th:only-of-type {\n",
       "        vertical-align: middle;\n",
       "    }\n",
       "\n",
       "    .dataframe tbody tr th {\n",
       "        vertical-align: top;\n",
       "    }\n",
       "\n",
       "    .dataframe thead th {\n",
       "        text-align: right;\n",
       "    }\n",
       "</style>\n",
       "<table border=\"1\" class=\"dataframe\">\n",
       "  <thead>\n",
       "    <tr style=\"text-align: right;\">\n",
       "      <th></th>\n",
       "      <th>body</th>\n",
       "      <th>cleaned</th>\n",
       "    </tr>\n",
       "  </thead>\n",
       "  <tbody>\n",
       "    <tr>\n",
       "      <th>0</th>\n",
       "      <td>The media could not be loaded.\\n              ...</td>\n",
       "      <td>alexa cannot hear after she starts playing</td>\n",
       "    </tr>\n",
       "    <tr>\n",
       "      <th>1</th>\n",
       "      <td>I purchased this as a birthday gift for my 7 y...</td>\n",
       "      <td>i purchased this as a birthday gift for my yea...</td>\n",
       "    </tr>\n",
       "    <tr>\n",
       "      <th>2</th>\n",
       "      <td>The media could not be loaded.\\n              ...</td>\n",
       "      <td>here i am uploading video enjoy most idiotic ...</td>\n",
       "    </tr>\n",
       "    <tr>\n",
       "      <th>3</th>\n",
       "      <td>The media could not be loaded.\\n              ...</td>\n",
       "      <td>do not buy this product when i asked alexa th...</td>\n",
       "    </tr>\n",
       "    <tr>\n",
       "      <th>4</th>\n",
       "      <td>Its just one if the best deal i ever got on am...</td>\n",
       "      <td>its just one if the best deal i ever got on am...</td>\n",
       "    </tr>\n",
       "    <tr>\n",
       "      <th>...</th>\n",
       "      <td>...</td>\n",
       "      <td>...</td>\n",
       "    </tr>\n",
       "    <tr>\n",
       "      <th>4152</th>\n",
       "      <td>OK OK</td>\n",
       "      <td>ok ok</td>\n",
       "    </tr>\n",
       "    <tr>\n",
       "      <th>4153</th>\n",
       "      <td>I like alexa because this product is amazing. ...</td>\n",
       "      <td>i like alexa because this product is amazing m...</td>\n",
       "    </tr>\n",
       "    <tr>\n",
       "      <th>4154</th>\n",
       "      <td>Voice recognition problem persist</td>\n",
       "      <td>voice recognition problem persist</td>\n",
       "    </tr>\n",
       "    <tr>\n",
       "      <th>4155</th>\n",
       "      <td>It's a nice product</td>\n",
       "      <td>it is a nice product</td>\n",
       "    </tr>\n",
       "    <tr>\n",
       "      <th>4156</th>\n",
       "      <td>Awesome ...i love Alexa..</td>\n",
       "      <td>awesome i love alexa</td>\n",
       "    </tr>\n",
       "  </tbody>\n",
       "</table>\n",
       "<p>4157 rows × 2 columns</p>\n",
       "</div>"
      ],
      "text/plain": [
       "                                                   body  \\\n",
       "0     The media could not be loaded.\\n              ...   \n",
       "1     I purchased this as a birthday gift for my 7 y...   \n",
       "2     The media could not be loaded.\\n              ...   \n",
       "3     The media could not be loaded.\\n              ...   \n",
       "4     Its just one if the best deal i ever got on am...   \n",
       "...                                                 ...   \n",
       "4152                                              OK OK   \n",
       "4153  I like alexa because this product is amazing. ...   \n",
       "4154                  Voice recognition problem persist   \n",
       "4155                                It's a nice product   \n",
       "4156                          Awesome ...i love Alexa..   \n",
       "\n",
       "                                                cleaned  \n",
       "0            alexa cannot hear after she starts playing  \n",
       "1     i purchased this as a birthday gift for my yea...  \n",
       "2      here i am uploading video enjoy most idiotic ...  \n",
       "3      do not buy this product when i asked alexa th...  \n",
       "4     its just one if the best deal i ever got on am...  \n",
       "...                                                 ...  \n",
       "4152                                              ok ok  \n",
       "4153  i like alexa because this product is amazing m...  \n",
       "4154                  voice recognition problem persist  \n",
       "4155                               it is a nice product  \n",
       "4156                              awesome i love alexa   \n",
       "\n",
       "[4157 rows x 2 columns]"
      ]
     },
     "execution_count": 4,
     "metadata": {},
     "output_type": "execute_result"
    }
   ],
   "source": [
    "reviews=reviews[['body','cleaned']]\n",
    "reviews"
   ]
  },
  {
   "cell_type": "code",
   "execution_count": 5,
   "id": "f29ca3fa",
   "metadata": {},
   "outputs": [
    {
     "data": {
      "text/plain": [
       "body        0\n",
       "cleaned    35\n",
       "dtype: int64"
      ]
     },
     "execution_count": 5,
     "metadata": {},
     "output_type": "execute_result"
    }
   ],
   "source": [
    "#checking for null entries\n",
    "reviews.isnull().sum()"
   ]
  },
  {
   "cell_type": "code",
   "execution_count": 6,
   "id": "ac16c728",
   "metadata": {},
   "outputs": [
    {
     "data": {
      "text/html": [
       "<div>\n",
       "<style scoped>\n",
       "    .dataframe tbody tr th:only-of-type {\n",
       "        vertical-align: middle;\n",
       "    }\n",
       "\n",
       "    .dataframe tbody tr th {\n",
       "        vertical-align: top;\n",
       "    }\n",
       "\n",
       "    .dataframe thead th {\n",
       "        text-align: right;\n",
       "    }\n",
       "</style>\n",
       "<table border=\"1\" class=\"dataframe\">\n",
       "  <thead>\n",
       "    <tr style=\"text-align: right;\">\n",
       "      <th></th>\n",
       "      <th>body</th>\n",
       "      <th>cleaned</th>\n",
       "    </tr>\n",
       "  </thead>\n",
       "  <tbody>\n",
       "    <tr>\n",
       "      <th>0</th>\n",
       "      <td>The media could not be loaded.\\n              ...</td>\n",
       "      <td>alexa cannot hear after she starts playing</td>\n",
       "    </tr>\n",
       "    <tr>\n",
       "      <th>1</th>\n",
       "      <td>I purchased this as a birthday gift for my 7 y...</td>\n",
       "      <td>i purchased this as a birthday gift for my yea...</td>\n",
       "    </tr>\n",
       "    <tr>\n",
       "      <th>2</th>\n",
       "      <td>The media could not be loaded.\\n              ...</td>\n",
       "      <td>here i am uploading video enjoy most idiotic ...</td>\n",
       "    </tr>\n",
       "    <tr>\n",
       "      <th>3</th>\n",
       "      <td>The media could not be loaded.\\n              ...</td>\n",
       "      <td>do not buy this product when i asked alexa th...</td>\n",
       "    </tr>\n",
       "    <tr>\n",
       "      <th>4</th>\n",
       "      <td>Its just one if the best deal i ever got on am...</td>\n",
       "      <td>its just one if the best deal i ever got on am...</td>\n",
       "    </tr>\n",
       "    <tr>\n",
       "      <th>...</th>\n",
       "      <td>...</td>\n",
       "      <td>...</td>\n",
       "    </tr>\n",
       "    <tr>\n",
       "      <th>4152</th>\n",
       "      <td>OK OK</td>\n",
       "      <td>ok ok</td>\n",
       "    </tr>\n",
       "    <tr>\n",
       "      <th>4153</th>\n",
       "      <td>I like alexa because this product is amazing. ...</td>\n",
       "      <td>i like alexa because this product is amazing m...</td>\n",
       "    </tr>\n",
       "    <tr>\n",
       "      <th>4154</th>\n",
       "      <td>Voice recognition problem persist</td>\n",
       "      <td>voice recognition problem persist</td>\n",
       "    </tr>\n",
       "    <tr>\n",
       "      <th>4155</th>\n",
       "      <td>It's a nice product</td>\n",
       "      <td>it is a nice product</td>\n",
       "    </tr>\n",
       "    <tr>\n",
       "      <th>4156</th>\n",
       "      <td>Awesome ...i love Alexa..</td>\n",
       "      <td>awesome i love alexa</td>\n",
       "    </tr>\n",
       "  </tbody>\n",
       "</table>\n",
       "<p>4122 rows × 2 columns</p>\n",
       "</div>"
      ],
      "text/plain": [
       "                                                   body  \\\n",
       "0     The media could not be loaded.\\n              ...   \n",
       "1     I purchased this as a birthday gift for my 7 y...   \n",
       "2     The media could not be loaded.\\n              ...   \n",
       "3     The media could not be loaded.\\n              ...   \n",
       "4     Its just one if the best deal i ever got on am...   \n",
       "...                                                 ...   \n",
       "4152                                              OK OK   \n",
       "4153  I like alexa because this product is amazing. ...   \n",
       "4154                  Voice recognition problem persist   \n",
       "4155                                It's a nice product   \n",
       "4156                          Awesome ...i love Alexa..   \n",
       "\n",
       "                                                cleaned  \n",
       "0            alexa cannot hear after she starts playing  \n",
       "1     i purchased this as a birthday gift for my yea...  \n",
       "2      here i am uploading video enjoy most idiotic ...  \n",
       "3      do not buy this product when i asked alexa th...  \n",
       "4     its just one if the best deal i ever got on am...  \n",
       "...                                                 ...  \n",
       "4152                                              ok ok  \n",
       "4153  i like alexa because this product is amazing m...  \n",
       "4154                  voice recognition problem persist  \n",
       "4155                               it is a nice product  \n",
       "4156                              awesome i love alexa   \n",
       "\n",
       "[4122 rows x 2 columns]"
      ]
     },
     "execution_count": 6,
     "metadata": {},
     "output_type": "execute_result"
    }
   ],
   "source": [
    "#removing null cells\n",
    "reviews=reviews.dropna(axis=0)\n",
    "reviews"
   ]
  },
  {
   "cell_type": "code",
   "execution_count": 7,
   "id": "0008b610",
   "metadata": {},
   "outputs": [
    {
     "data": {
      "text/plain": [
       "0       [alexa, cannot, hear, after, she, starts, play...\n",
       "1       [i, purchased, this, as, a, birthday, gift, fo...\n",
       "2       [here, i, am, uploading, video, enjoy, most, i...\n",
       "3       [do, not, buy, this, product, when, i, asked, ...\n",
       "4       [its, just, one, if, the, best, deal, i, ever,...\n",
       "                              ...                        \n",
       "4152                                             [ok, ok]\n",
       "4153    [i, like, alexa, because, this, product, is, a...\n",
       "4154               [voice, recognition, problem, persist]\n",
       "4155                           [it, is, a, nice, product]\n",
       "4156                            [awesome, i, love, alexa]\n",
       "Name: cleaned, Length: 4122, dtype: object"
      ]
     },
     "execution_count": 7,
     "metadata": {},
     "output_type": "execute_result"
    }
   ],
   "source": [
    "#splitting the sentence\n",
    "df_cleaned=reviews.cleaned.str.split()\n",
    "df_cleaned"
   ]
  },
  {
   "cell_type": "code",
   "execution_count": 8,
   "id": "9bd08996",
   "metadata": {},
   "outputs": [],
   "source": [
    "#performing stemming and lemmatization after stopwords removal\n",
    "stop_words = set(stopwords.words('english'))\n",
    "df_stemmed = df_cleaned.apply(lambda x: [ps.stem(word) for word in x if word not in stop_words])\n",
    "df_lemmatized = df_cleaned.apply(lambda x: [ls.lemmatize(word) for word in x if word not in stop_words])"
   ]
  },
  {
   "cell_type": "code",
   "execution_count": 9,
   "id": "e9be400a",
   "metadata": {},
   "outputs": [],
   "source": [
    "df_stemmed = df_stemmed.apply(lambda x: ' '.join(x))\n",
    "df_lemmatized = df_lemmatized.apply(lambda x: ' '.join(x))"
   ]
  },
  {
   "cell_type": "code",
   "execution_count": 10,
   "id": "698d8e98",
   "metadata": {},
   "outputs": [],
   "source": [
    "reviews['Stemmed_text']=df_stemmed.to_frame()\n",
    "reviews['Lemmatized_text']=df_lemmatized.to_frame()"
   ]
  },
  {
   "cell_type": "code",
   "execution_count": 11,
   "id": "0ae13001",
   "metadata": {},
   "outputs": [
    {
     "data": {
      "text/html": [
       "<div>\n",
       "<style scoped>\n",
       "    .dataframe tbody tr th:only-of-type {\n",
       "        vertical-align: middle;\n",
       "    }\n",
       "\n",
       "    .dataframe tbody tr th {\n",
       "        vertical-align: top;\n",
       "    }\n",
       "\n",
       "    .dataframe thead th {\n",
       "        text-align: right;\n",
       "    }\n",
       "</style>\n",
       "<table border=\"1\" class=\"dataframe\">\n",
       "  <thead>\n",
       "    <tr style=\"text-align: right;\">\n",
       "      <th></th>\n",
       "      <th>body</th>\n",
       "      <th>cleaned</th>\n",
       "      <th>Stemmed_text</th>\n",
       "      <th>Lemmatized_text</th>\n",
       "    </tr>\n",
       "  </thead>\n",
       "  <tbody>\n",
       "    <tr>\n",
       "      <th>0</th>\n",
       "      <td>The media could not be loaded.\\n              ...</td>\n",
       "      <td>alexa cannot hear after she starts playing</td>\n",
       "      <td>alexa cannot hear start play</td>\n",
       "      <td>alexa cannot hear start playing</td>\n",
       "    </tr>\n",
       "    <tr>\n",
       "      <th>1</th>\n",
       "      <td>I purchased this as a birthday gift for my 7 y...</td>\n",
       "      <td>i purchased this as a birthday gift for my yea...</td>\n",
       "      <td>purchas birthday gift year old son sinc sibl t...</td>\n",
       "      <td>purchased birthday gift year old son since sib...</td>\n",
       "    </tr>\n",
       "    <tr>\n",
       "      <th>2</th>\n",
       "      <td>The media could not be loaded.\\n              ...</td>\n",
       "      <td>here i am uploading video enjoy most idiotic ...</td>\n",
       "      <td>upload video enjoy idiot devic everi bought ne...</td>\n",
       "      <td>uploading video enjoy idiotic device every bou...</td>\n",
       "    </tr>\n",
       "    <tr>\n",
       "      <th>3</th>\n",
       "      <td>The media could not be loaded.\\n              ...</td>\n",
       "      <td>do not buy this product when i asked alexa th...</td>\n",
       "      <td>buy product ask alexa kashmir part countri sai...</td>\n",
       "      <td>buy product asked alexa kashmir part country s...</td>\n",
       "    </tr>\n",
       "    <tr>\n",
       "      <th>4</th>\n",
       "      <td>Its just one if the best deal i ever got on am...</td>\n",
       "      <td>its just one if the best deal i ever got on am...</td>\n",
       "      <td>one best deal ever got amazon purchas watt wip...</td>\n",
       "      <td>one best deal ever got amazon purchased watt w...</td>\n",
       "    </tr>\n",
       "    <tr>\n",
       "      <th>...</th>\n",
       "      <td>...</td>\n",
       "      <td>...</td>\n",
       "      <td>...</td>\n",
       "      <td>...</td>\n",
       "    </tr>\n",
       "    <tr>\n",
       "      <th>4152</th>\n",
       "      <td>OK OK</td>\n",
       "      <td>ok ok</td>\n",
       "      <td>ok ok</td>\n",
       "      <td>ok ok</td>\n",
       "    </tr>\n",
       "    <tr>\n",
       "      <th>4153</th>\n",
       "      <td>I like alexa because this product is amazing. ...</td>\n",
       "      <td>i like alexa because this product is amazing m...</td>\n",
       "      <td>like alexa product amaz mani problem solv alex...</td>\n",
       "      <td>like alexa product amazing many problem solve ...</td>\n",
       "    </tr>\n",
       "    <tr>\n",
       "      <th>4154</th>\n",
       "      <td>Voice recognition problem persist</td>\n",
       "      <td>voice recognition problem persist</td>\n",
       "      <td>voic recognit problem persist</td>\n",
       "      <td>voice recognition problem persist</td>\n",
       "    </tr>\n",
       "    <tr>\n",
       "      <th>4155</th>\n",
       "      <td>It's a nice product</td>\n",
       "      <td>it is a nice product</td>\n",
       "      <td>nice product</td>\n",
       "      <td>nice product</td>\n",
       "    </tr>\n",
       "    <tr>\n",
       "      <th>4156</th>\n",
       "      <td>Awesome ...i love Alexa..</td>\n",
       "      <td>awesome i love alexa</td>\n",
       "      <td>awesom love alexa</td>\n",
       "      <td>awesome love alexa</td>\n",
       "    </tr>\n",
       "  </tbody>\n",
       "</table>\n",
       "<p>4122 rows × 4 columns</p>\n",
       "</div>"
      ],
      "text/plain": [
       "                                                   body  \\\n",
       "0     The media could not be loaded.\\n              ...   \n",
       "1     I purchased this as a birthday gift for my 7 y...   \n",
       "2     The media could not be loaded.\\n              ...   \n",
       "3     The media could not be loaded.\\n              ...   \n",
       "4     Its just one if the best deal i ever got on am...   \n",
       "...                                                 ...   \n",
       "4152                                              OK OK   \n",
       "4153  I like alexa because this product is amazing. ...   \n",
       "4154                  Voice recognition problem persist   \n",
       "4155                                It's a nice product   \n",
       "4156                          Awesome ...i love Alexa..   \n",
       "\n",
       "                                                cleaned  \\\n",
       "0            alexa cannot hear after she starts playing   \n",
       "1     i purchased this as a birthday gift for my yea...   \n",
       "2      here i am uploading video enjoy most idiotic ...   \n",
       "3      do not buy this product when i asked alexa th...   \n",
       "4     its just one if the best deal i ever got on am...   \n",
       "...                                                 ...   \n",
       "4152                                              ok ok   \n",
       "4153  i like alexa because this product is amazing m...   \n",
       "4154                  voice recognition problem persist   \n",
       "4155                               it is a nice product   \n",
       "4156                              awesome i love alexa    \n",
       "\n",
       "                                           Stemmed_text  \\\n",
       "0                          alexa cannot hear start play   \n",
       "1     purchas birthday gift year old son sinc sibl t...   \n",
       "2     upload video enjoy idiot devic everi bought ne...   \n",
       "3     buy product ask alexa kashmir part countri sai...   \n",
       "4     one best deal ever got amazon purchas watt wip...   \n",
       "...                                                 ...   \n",
       "4152                                              ok ok   \n",
       "4153  like alexa product amaz mani problem solv alex...   \n",
       "4154                      voic recognit problem persist   \n",
       "4155                                       nice product   \n",
       "4156                                  awesom love alexa   \n",
       "\n",
       "                                        Lemmatized_text  \n",
       "0                       alexa cannot hear start playing  \n",
       "1     purchased birthday gift year old son since sib...  \n",
       "2     uploading video enjoy idiotic device every bou...  \n",
       "3     buy product asked alexa kashmir part country s...  \n",
       "4     one best deal ever got amazon purchased watt w...  \n",
       "...                                                 ...  \n",
       "4152                                              ok ok  \n",
       "4153  like alexa product amazing many problem solve ...  \n",
       "4154                  voice recognition problem persist  \n",
       "4155                                       nice product  \n",
       "4156                                 awesome love alexa  \n",
       "\n",
       "[4122 rows x 4 columns]"
      ]
     },
     "execution_count": 11,
     "metadata": {},
     "output_type": "execute_result"
    }
   ],
   "source": [
    "reviews"
   ]
  },
  {
   "cell_type": "code",
   "execution_count": 12,
   "id": "9c9a7406",
   "metadata": {},
   "outputs": [],
   "source": [
    "df=reviews[['Stemmed_text']]"
   ]
  },
  {
   "cell_type": "code",
   "execution_count": 13,
   "id": "2619621c",
   "metadata": {},
   "outputs": [],
   "source": [
    "#finding polarity from textblob\n",
    "from textblob import TextBlob\n",
    "df['polarity']=(round(reviews['Stemmed_text'].apply(lambda x:TextBlob(x).sentiment.polarity),4))"
   ]
  },
  {
   "cell_type": "code",
   "execution_count": 14,
   "id": "56de7f2e",
   "metadata": {},
   "outputs": [
    {
     "data": {
      "text/html": [
       "<div>\n",
       "<style scoped>\n",
       "    .dataframe tbody tr th:only-of-type {\n",
       "        vertical-align: middle;\n",
       "    }\n",
       "\n",
       "    .dataframe tbody tr th {\n",
       "        vertical-align: top;\n",
       "    }\n",
       "\n",
       "    .dataframe thead th {\n",
       "        text-align: right;\n",
       "    }\n",
       "</style>\n",
       "<table border=\"1\" class=\"dataframe\">\n",
       "  <thead>\n",
       "    <tr style=\"text-align: right;\">\n",
       "      <th></th>\n",
       "      <th>Stemmed_text</th>\n",
       "      <th>polarity</th>\n",
       "    </tr>\n",
       "  </thead>\n",
       "  <tbody>\n",
       "    <tr>\n",
       "      <th>0</th>\n",
       "      <td>alexa cannot hear start play</td>\n",
       "      <td>0.0000</td>\n",
       "    </tr>\n",
       "    <tr>\n",
       "      <th>1</th>\n",
       "      <td>purchas birthday gift year old son sinc sibl t...</td>\n",
       "      <td>0.1881</td>\n",
       "    </tr>\n",
       "    <tr>\n",
       "      <th>2</th>\n",
       "      <td>upload video enjoy idiot devic everi bought ne...</td>\n",
       "      <td>0.2000</td>\n",
       "    </tr>\n",
       "    <tr>\n",
       "      <th>3</th>\n",
       "      <td>buy product ask alexa kashmir part countri sai...</td>\n",
       "      <td>0.0000</td>\n",
       "    </tr>\n",
       "    <tr>\n",
       "      <th>4</th>\n",
       "      <td>one best deal ever got amazon purchas watt wip...</td>\n",
       "      <td>0.3238</td>\n",
       "    </tr>\n",
       "    <tr>\n",
       "      <th>...</th>\n",
       "      <td>...</td>\n",
       "      <td>...</td>\n",
       "    </tr>\n",
       "    <tr>\n",
       "      <th>4152</th>\n",
       "      <td>ok ok</td>\n",
       "      <td>0.5000</td>\n",
       "    </tr>\n",
       "    <tr>\n",
       "      <th>4153</th>\n",
       "      <td>like alexa product amaz mani problem solv alex...</td>\n",
       "      <td>0.0000</td>\n",
       "    </tr>\n",
       "    <tr>\n",
       "      <th>4154</th>\n",
       "      <td>voic recognit problem persist</td>\n",
       "      <td>0.0000</td>\n",
       "    </tr>\n",
       "    <tr>\n",
       "      <th>4155</th>\n",
       "      <td>nice product</td>\n",
       "      <td>0.6000</td>\n",
       "    </tr>\n",
       "    <tr>\n",
       "      <th>4156</th>\n",
       "      <td>awesom love alexa</td>\n",
       "      <td>0.5000</td>\n",
       "    </tr>\n",
       "  </tbody>\n",
       "</table>\n",
       "<p>4122 rows × 2 columns</p>\n",
       "</div>"
      ],
      "text/plain": [
       "                                           Stemmed_text  polarity\n",
       "0                          alexa cannot hear start play    0.0000\n",
       "1     purchas birthday gift year old son sinc sibl t...    0.1881\n",
       "2     upload video enjoy idiot devic everi bought ne...    0.2000\n",
       "3     buy product ask alexa kashmir part countri sai...    0.0000\n",
       "4     one best deal ever got amazon purchas watt wip...    0.3238\n",
       "...                                                 ...       ...\n",
       "4152                                              ok ok    0.5000\n",
       "4153  like alexa product amaz mani problem solv alex...    0.0000\n",
       "4154                      voic recognit problem persist    0.0000\n",
       "4155                                       nice product    0.6000\n",
       "4156                                  awesom love alexa    0.5000\n",
       "\n",
       "[4122 rows x 2 columns]"
      ]
     },
     "execution_count": 14,
     "metadata": {},
     "output_type": "execute_result"
    }
   ],
   "source": [
    "df"
   ]
  },
  {
   "cell_type": "code",
   "execution_count": 15,
   "id": "955bdb2c",
   "metadata": {},
   "outputs": [],
   "source": [
    "pol=[]\n",
    "for i in df.polarity:\n",
    "    if i<0:\n",
    "        pol.append('negative')\n",
    "    elif i>0:\n",
    "        pol.append('positive')\n",
    "    else:\n",
    "        pol.append('neutral')\n",
    "df['sentiment']=pol"
   ]
  },
  {
   "cell_type": "code",
   "execution_count": 16,
   "id": "be7eb10c",
   "metadata": {},
   "outputs": [
    {
     "data": {
      "text/html": [
       "<div>\n",
       "<style scoped>\n",
       "    .dataframe tbody tr th:only-of-type {\n",
       "        vertical-align: middle;\n",
       "    }\n",
       "\n",
       "    .dataframe tbody tr th {\n",
       "        vertical-align: top;\n",
       "    }\n",
       "\n",
       "    .dataframe thead th {\n",
       "        text-align: right;\n",
       "    }\n",
       "</style>\n",
       "<table border=\"1\" class=\"dataframe\">\n",
       "  <thead>\n",
       "    <tr style=\"text-align: right;\">\n",
       "      <th></th>\n",
       "      <th>Stemmed_text</th>\n",
       "      <th>polarity</th>\n",
       "      <th>sentiment</th>\n",
       "    </tr>\n",
       "  </thead>\n",
       "  <tbody>\n",
       "    <tr>\n",
       "      <th>0</th>\n",
       "      <td>alexa cannot hear start play</td>\n",
       "      <td>0.0000</td>\n",
       "      <td>neutral</td>\n",
       "    </tr>\n",
       "    <tr>\n",
       "      <th>1</th>\n",
       "      <td>purchas birthday gift year old son sinc sibl t...</td>\n",
       "      <td>0.1881</td>\n",
       "      <td>positive</td>\n",
       "    </tr>\n",
       "    <tr>\n",
       "      <th>2</th>\n",
       "      <td>upload video enjoy idiot devic everi bought ne...</td>\n",
       "      <td>0.2000</td>\n",
       "      <td>positive</td>\n",
       "    </tr>\n",
       "    <tr>\n",
       "      <th>3</th>\n",
       "      <td>buy product ask alexa kashmir part countri sai...</td>\n",
       "      <td>0.0000</td>\n",
       "      <td>neutral</td>\n",
       "    </tr>\n",
       "    <tr>\n",
       "      <th>4</th>\n",
       "      <td>one best deal ever got amazon purchas watt wip...</td>\n",
       "      <td>0.3238</td>\n",
       "      <td>positive</td>\n",
       "    </tr>\n",
       "    <tr>\n",
       "      <th>5</th>\n",
       "      <td>worst experi alexa warranti get product amazon...</td>\n",
       "      <td>-0.4429</td>\n",
       "      <td>negative</td>\n",
       "    </tr>\n",
       "    <tr>\n",
       "      <th>6</th>\n",
       "      <td>buy product pleas keep point mind need amazon ...</td>\n",
       "      <td>0.3100</td>\n",
       "      <td>positive</td>\n",
       "    </tr>\n",
       "    <tr>\n",
       "      <th>7</th>\n",
       "      <td>use alexa dot nd gen today gift dot rd gen dad...</td>\n",
       "      <td>0.1946</td>\n",
       "      <td>positive</td>\n",
       "    </tr>\n",
       "    <tr>\n",
       "      <th>8</th>\n",
       "      <td>work beauti bought link entir hous frequent gr...</td>\n",
       "      <td>0.0500</td>\n",
       "      <td>positive</td>\n",
       "    </tr>\n",
       "    <tr>\n",
       "      <th>9</th>\n",
       "      <td>use get bulb worth make echo dot roughli dolla...</td>\n",
       "      <td>0.1121</td>\n",
       "      <td>positive</td>\n",
       "    </tr>\n",
       "  </tbody>\n",
       "</table>\n",
       "</div>"
      ],
      "text/plain": [
       "                                        Stemmed_text  polarity sentiment\n",
       "0                       alexa cannot hear start play    0.0000   neutral\n",
       "1  purchas birthday gift year old son sinc sibl t...    0.1881  positive\n",
       "2  upload video enjoy idiot devic everi bought ne...    0.2000  positive\n",
       "3  buy product ask alexa kashmir part countri sai...    0.0000   neutral\n",
       "4  one best deal ever got amazon purchas watt wip...    0.3238  positive\n",
       "5  worst experi alexa warranti get product amazon...   -0.4429  negative\n",
       "6  buy product pleas keep point mind need amazon ...    0.3100  positive\n",
       "7  use alexa dot nd gen today gift dot rd gen dad...    0.1946  positive\n",
       "8  work beauti bought link entir hous frequent gr...    0.0500  positive\n",
       "9  use get bulb worth make echo dot roughli dolla...    0.1121  positive"
      ]
     },
     "execution_count": 16,
     "metadata": {},
     "output_type": "execute_result"
    }
   ],
   "source": [
    "df.head(10)"
   ]
  },
  {
   "cell_type": "code",
   "execution_count": 17,
   "id": "985e3e74",
   "metadata": {},
   "outputs": [
    {
     "data": {
      "text/plain": [
       "positive    2773\n",
       "neutral     1074\n",
       "negative     275\n",
       "Name: sentiment, dtype: int64"
      ]
     },
     "execution_count": 17,
     "metadata": {},
     "output_type": "execute_result"
    }
   ],
   "source": [
    "df.sentiment.value_counts()"
   ]
  },
  {
   "cell_type": "code",
   "execution_count": 18,
   "id": "6f890542",
   "metadata": {},
   "outputs": [],
   "source": [
    "df['target'] = df['sentiment'].replace({'positive':2,'neutral':1,'negative':0})"
   ]
  },
  {
   "cell_type": "code",
   "execution_count": 19,
   "id": "8692b88c",
   "metadata": {},
   "outputs": [],
   "source": [
    "#vectorization\n",
    "from sklearn.feature_extraction.text import CountVectorizer\n",
    "cv=CountVectorizer()\n",
    "X=cv.fit_transform(df['Stemmed_text'].values.astype('U'))\n",
    "y=df['target']"
   ]
  },
  {
   "cell_type": "code",
   "execution_count": 20,
   "id": "774867fc",
   "metadata": {},
   "outputs": [
    {
     "name": "stderr",
     "output_type": "stream",
     "text": [
      "IOPub data rate exceeded.\n",
      "The notebook server will temporarily stop sending output\n",
      "to the client in order to avoid crashing it.\n",
      "To change this limit, set the config variable\n",
      "`--NotebookApp.iopub_data_rate_limit`.\n",
      "\n",
      "Current values:\n",
      "NotebookApp.iopub_data_rate_limit=1000000.0 (bytes/sec)\n",
      "NotebookApp.rate_limit_window=3.0 (secs)\n",
      "\n"
     ]
    }
   ],
   "source": [
    "vect = CountVectorizer(min_df=0., max_df=1.0)\n",
    "X = vect.fit_transform(df['Stemmed_text'])\n",
    "print(pd.DataFrame(X.A, columns=vect.get_feature_names()).to_string())\n",
    "df = pd.DataFrame(X.toarray().transpose(), index = vect.get_feature_names())"
   ]
  },
  {
   "cell_type": "code",
   "execution_count": 21,
   "id": "4efdd5cf",
   "metadata": {},
   "outputs": [
    {
     "data": {
      "text/html": [
       "<div>\n",
       "<style scoped>\n",
       "    .dataframe tbody tr th:only-of-type {\n",
       "        vertical-align: middle;\n",
       "    }\n",
       "\n",
       "    .dataframe tbody tr th {\n",
       "        vertical-align: top;\n",
       "    }\n",
       "\n",
       "    .dataframe thead th {\n",
       "        text-align: right;\n",
       "    }\n",
       "</style>\n",
       "<table border=\"1\" class=\"dataframe\">\n",
       "  <thead>\n",
       "    <tr style=\"text-align: right;\">\n",
       "      <th></th>\n",
       "      <th>0</th>\n",
       "      <th>1</th>\n",
       "      <th>2</th>\n",
       "      <th>3</th>\n",
       "      <th>4</th>\n",
       "      <th>5</th>\n",
       "      <th>6</th>\n",
       "      <th>7</th>\n",
       "      <th>8</th>\n",
       "      <th>9</th>\n",
       "      <th>...</th>\n",
       "      <th>4112</th>\n",
       "      <th>4113</th>\n",
       "      <th>4114</th>\n",
       "      <th>4115</th>\n",
       "      <th>4116</th>\n",
       "      <th>4117</th>\n",
       "      <th>4118</th>\n",
       "      <th>4119</th>\n",
       "      <th>4120</th>\n",
       "      <th>4121</th>\n",
       "    </tr>\n",
       "  </thead>\n",
       "  <tbody>\n",
       "    <tr>\n",
       "      <th>aa</th>\n",
       "      <td>0</td>\n",
       "      <td>0</td>\n",
       "      <td>0</td>\n",
       "      <td>0</td>\n",
       "      <td>0</td>\n",
       "      <td>0</td>\n",
       "      <td>0</td>\n",
       "      <td>0</td>\n",
       "      <td>0</td>\n",
       "      <td>0</td>\n",
       "      <td>...</td>\n",
       "      <td>0</td>\n",
       "      <td>0</td>\n",
       "      <td>0</td>\n",
       "      <td>0</td>\n",
       "      <td>0</td>\n",
       "      <td>0</td>\n",
       "      <td>0</td>\n",
       "      <td>0</td>\n",
       "      <td>0</td>\n",
       "      <td>0</td>\n",
       "    </tr>\n",
       "    <tr>\n",
       "      <th>aap</th>\n",
       "      <td>0</td>\n",
       "      <td>0</td>\n",
       "      <td>0</td>\n",
       "      <td>0</td>\n",
       "      <td>0</td>\n",
       "      <td>0</td>\n",
       "      <td>0</td>\n",
       "      <td>0</td>\n",
       "      <td>0</td>\n",
       "      <td>0</td>\n",
       "      <td>...</td>\n",
       "      <td>0</td>\n",
       "      <td>0</td>\n",
       "      <td>0</td>\n",
       "      <td>0</td>\n",
       "      <td>0</td>\n",
       "      <td>0</td>\n",
       "      <td>0</td>\n",
       "      <td>0</td>\n",
       "      <td>0</td>\n",
       "      <td>0</td>\n",
       "    </tr>\n",
       "    <tr>\n",
       "      <th>aapl</th>\n",
       "      <td>0</td>\n",
       "      <td>0</td>\n",
       "      <td>0</td>\n",
       "      <td>0</td>\n",
       "      <td>0</td>\n",
       "      <td>0</td>\n",
       "      <td>0</td>\n",
       "      <td>0</td>\n",
       "      <td>0</td>\n",
       "      <td>0</td>\n",
       "      <td>...</td>\n",
       "      <td>0</td>\n",
       "      <td>0</td>\n",
       "      <td>0</td>\n",
       "      <td>0</td>\n",
       "      <td>0</td>\n",
       "      <td>0</td>\n",
       "      <td>0</td>\n",
       "      <td>0</td>\n",
       "      <td>0</td>\n",
       "      <td>0</td>\n",
       "    </tr>\n",
       "    <tr>\n",
       "      <th>aaya</th>\n",
       "      <td>0</td>\n",
       "      <td>0</td>\n",
       "      <td>0</td>\n",
       "      <td>0</td>\n",
       "      <td>0</td>\n",
       "      <td>0</td>\n",
       "      <td>0</td>\n",
       "      <td>0</td>\n",
       "      <td>0</td>\n",
       "      <td>0</td>\n",
       "      <td>...</td>\n",
       "      <td>0</td>\n",
       "      <td>0</td>\n",
       "      <td>0</td>\n",
       "      <td>0</td>\n",
       "      <td>0</td>\n",
       "      <td>0</td>\n",
       "      <td>0</td>\n",
       "      <td>0</td>\n",
       "      <td>0</td>\n",
       "      <td>0</td>\n",
       "    </tr>\n",
       "    <tr>\n",
       "      <th>ab</th>\n",
       "      <td>0</td>\n",
       "      <td>0</td>\n",
       "      <td>0</td>\n",
       "      <td>0</td>\n",
       "      <td>0</td>\n",
       "      <td>0</td>\n",
       "      <td>0</td>\n",
       "      <td>0</td>\n",
       "      <td>0</td>\n",
       "      <td>0</td>\n",
       "      <td>...</td>\n",
       "      <td>0</td>\n",
       "      <td>0</td>\n",
       "      <td>0</td>\n",
       "      <td>0</td>\n",
       "      <td>0</td>\n",
       "      <td>0</td>\n",
       "      <td>0</td>\n",
       "      <td>0</td>\n",
       "      <td>0</td>\n",
       "      <td>0</td>\n",
       "    </tr>\n",
       "    <tr>\n",
       "      <th>...</th>\n",
       "      <td>...</td>\n",
       "      <td>...</td>\n",
       "      <td>...</td>\n",
       "      <td>...</td>\n",
       "      <td>...</td>\n",
       "      <td>...</td>\n",
       "      <td>...</td>\n",
       "      <td>...</td>\n",
       "      <td>...</td>\n",
       "      <td>...</td>\n",
       "      <td>...</td>\n",
       "      <td>...</td>\n",
       "      <td>...</td>\n",
       "      <td>...</td>\n",
       "      <td>...</td>\n",
       "      <td>...</td>\n",
       "      <td>...</td>\n",
       "      <td>...</td>\n",
       "      <td>...</td>\n",
       "      <td>...</td>\n",
       "      <td>...</td>\n",
       "    </tr>\n",
       "    <tr>\n",
       "      <th>yur</th>\n",
       "      <td>0</td>\n",
       "      <td>0</td>\n",
       "      <td>0</td>\n",
       "      <td>0</td>\n",
       "      <td>0</td>\n",
       "      <td>0</td>\n",
       "      <td>0</td>\n",
       "      <td>0</td>\n",
       "      <td>0</td>\n",
       "      <td>0</td>\n",
       "      <td>...</td>\n",
       "      <td>0</td>\n",
       "      <td>0</td>\n",
       "      <td>0</td>\n",
       "      <td>0</td>\n",
       "      <td>0</td>\n",
       "      <td>0</td>\n",
       "      <td>0</td>\n",
       "      <td>0</td>\n",
       "      <td>0</td>\n",
       "      <td>0</td>\n",
       "    </tr>\n",
       "    <tr>\n",
       "      <th>zero</th>\n",
       "      <td>0</td>\n",
       "      <td>0</td>\n",
       "      <td>0</td>\n",
       "      <td>0</td>\n",
       "      <td>0</td>\n",
       "      <td>0</td>\n",
       "      <td>0</td>\n",
       "      <td>0</td>\n",
       "      <td>0</td>\n",
       "      <td>0</td>\n",
       "      <td>...</td>\n",
       "      <td>0</td>\n",
       "      <td>0</td>\n",
       "      <td>0</td>\n",
       "      <td>0</td>\n",
       "      <td>0</td>\n",
       "      <td>0</td>\n",
       "      <td>0</td>\n",
       "      <td>0</td>\n",
       "      <td>0</td>\n",
       "      <td>0</td>\n",
       "    </tr>\n",
       "    <tr>\n",
       "      <th>zomato</th>\n",
       "      <td>0</td>\n",
       "      <td>0</td>\n",
       "      <td>0</td>\n",
       "      <td>0</td>\n",
       "      <td>0</td>\n",
       "      <td>0</td>\n",
       "      <td>0</td>\n",
       "      <td>0</td>\n",
       "      <td>0</td>\n",
       "      <td>0</td>\n",
       "      <td>...</td>\n",
       "      <td>0</td>\n",
       "      <td>0</td>\n",
       "      <td>0</td>\n",
       "      <td>0</td>\n",
       "      <td>0</td>\n",
       "      <td>0</td>\n",
       "      <td>0</td>\n",
       "      <td>0</td>\n",
       "      <td>0</td>\n",
       "      <td>0</td>\n",
       "    </tr>\n",
       "    <tr>\n",
       "      <th>zoom</th>\n",
       "      <td>0</td>\n",
       "      <td>0</td>\n",
       "      <td>0</td>\n",
       "      <td>0</td>\n",
       "      <td>0</td>\n",
       "      <td>0</td>\n",
       "      <td>0</td>\n",
       "      <td>0</td>\n",
       "      <td>0</td>\n",
       "      <td>0</td>\n",
       "      <td>...</td>\n",
       "      <td>0</td>\n",
       "      <td>0</td>\n",
       "      <td>0</td>\n",
       "      <td>0</td>\n",
       "      <td>0</td>\n",
       "      <td>0</td>\n",
       "      <td>0</td>\n",
       "      <td>0</td>\n",
       "      <td>0</td>\n",
       "      <td>0</td>\n",
       "    </tr>\n",
       "    <tr>\n",
       "      <th>zyan</th>\n",
       "      <td>0</td>\n",
       "      <td>0</td>\n",
       "      <td>0</td>\n",
       "      <td>0</td>\n",
       "      <td>0</td>\n",
       "      <td>0</td>\n",
       "      <td>0</td>\n",
       "      <td>0</td>\n",
       "      <td>0</td>\n",
       "      <td>0</td>\n",
       "      <td>...</td>\n",
       "      <td>0</td>\n",
       "      <td>0</td>\n",
       "      <td>0</td>\n",
       "      <td>0</td>\n",
       "      <td>0</td>\n",
       "      <td>0</td>\n",
       "      <td>0</td>\n",
       "      <td>0</td>\n",
       "      <td>0</td>\n",
       "      <td>0</td>\n",
       "    </tr>\n",
       "  </tbody>\n",
       "</table>\n",
       "<p>3688 rows × 4122 columns</p>\n",
       "</div>"
      ],
      "text/plain": [
       "        0     1     2     3     4     5     6     7     8     9     ...  4112  \\\n",
       "aa         0     0     0     0     0     0     0     0     0     0  ...     0   \n",
       "aap        0     0     0     0     0     0     0     0     0     0  ...     0   \n",
       "aapl       0     0     0     0     0     0     0     0     0     0  ...     0   \n",
       "aaya       0     0     0     0     0     0     0     0     0     0  ...     0   \n",
       "ab         0     0     0     0     0     0     0     0     0     0  ...     0   \n",
       "...      ...   ...   ...   ...   ...   ...   ...   ...   ...   ...  ...   ...   \n",
       "yur        0     0     0     0     0     0     0     0     0     0  ...     0   \n",
       "zero       0     0     0     0     0     0     0     0     0     0  ...     0   \n",
       "zomato     0     0     0     0     0     0     0     0     0     0  ...     0   \n",
       "zoom       0     0     0     0     0     0     0     0     0     0  ...     0   \n",
       "zyan       0     0     0     0     0     0     0     0     0     0  ...     0   \n",
       "\n",
       "        4113  4114  4115  4116  4117  4118  4119  4120  4121  \n",
       "aa         0     0     0     0     0     0     0     0     0  \n",
       "aap        0     0     0     0     0     0     0     0     0  \n",
       "aapl       0     0     0     0     0     0     0     0     0  \n",
       "aaya       0     0     0     0     0     0     0     0     0  \n",
       "ab         0     0     0     0     0     0     0     0     0  \n",
       "...      ...   ...   ...   ...   ...   ...   ...   ...   ...  \n",
       "yur        0     0     0     0     0     0     0     0     0  \n",
       "zero       0     0     0     0     0     0     0     0     0  \n",
       "zomato     0     0     0     0     0     0     0     0     0  \n",
       "zoom       0     0     0     0     0     0     0     0     0  \n",
       "zyan       0     0     0     0     0     0     0     0     0  \n",
       "\n",
       "[3688 rows x 4122 columns]"
      ]
     },
     "execution_count": 21,
     "metadata": {},
     "output_type": "execute_result"
    }
   ],
   "source": [
    "#document term matrix\n",
    "df"
   ]
  },
  {
   "cell_type": "code",
   "execution_count": 22,
   "id": "63b91b79",
   "metadata": {},
   "outputs": [],
   "source": [
    "#Splitting for train and test data\n",
    "from sklearn.model_selection  import train_test_split\n",
    "X_train,X_test,y_train,y_test = train_test_split(X,y,test_size=0.2,random_state=1)"
   ]
  },
  {
   "cell_type": "markdown",
   "id": "45a9974e",
   "metadata": {},
   "source": [
    "### Naive Bayes Classifier"
   ]
  },
  {
   "cell_type": "code",
   "execution_count": 23,
   "id": "5484f702",
   "metadata": {},
   "outputs": [
    {
     "data": {
      "text/plain": [
       "0.7490909090909091"
      ]
     },
     "execution_count": 23,
     "metadata": {},
     "output_type": "execute_result"
    }
   ],
   "source": [
    "from sklearn.naive_bayes import MultinomialNB\n",
    "review_classifier_model=MultinomialNB()\n",
    "review_classifier_model.fit(X_train,y_train)\n",
    "y_pred=review_classifier_model.predict(X_test)\n",
    "np.mean(y_pred==y_test)"
   ]
  },
  {
   "cell_type": "code",
   "execution_count": 24,
   "id": "204510bb",
   "metadata": {},
   "outputs": [],
   "source": [
    "nb_acc=round(accuracy_score(y_test,y_pred),4)"
   ]
  },
  {
   "cell_type": "markdown",
   "id": "fb12e886",
   "metadata": {},
   "source": [
    "### Logistic Regression"
   ]
  },
  {
   "cell_type": "code",
   "execution_count": 25,
   "id": "d9189323",
   "metadata": {},
   "outputs": [
    {
     "data": {
      "text/plain": [
       "0.9357575757575758"
      ]
     },
     "execution_count": 25,
     "metadata": {},
     "output_type": "execute_result"
    }
   ],
   "source": [
    "from sklearn.linear_model import LogisticRegression\n",
    "lr_model=LogisticRegression(random_state=1)\n",
    "lr_model.fit(X_train,y_train)\n",
    "\n",
    "y_pred=lr_model.predict(X_test)\n",
    "np.mean(y_pred==y_test)"
   ]
  },
  {
   "cell_type": "code",
   "execution_count": 26,
   "id": "6de4297e",
   "metadata": {},
   "outputs": [],
   "source": [
    "lr_acc=round(accuracy_score(y_test,y_pred),4)"
   ]
  },
  {
   "cell_type": "markdown",
   "id": "d7b0357e",
   "metadata": {},
   "source": [
    "### Decision Tree"
   ]
  },
  {
   "cell_type": "code",
   "execution_count": 27,
   "id": "811fb057",
   "metadata": {},
   "outputs": [
    {
     "data": {
      "text/plain": [
       "0.8690909090909091"
      ]
     },
     "execution_count": 27,
     "metadata": {},
     "output_type": "execute_result"
    }
   ],
   "source": [
    "from sklearn.tree import DecisionTreeClassifier\n",
    "dt_model=DecisionTreeClassifier(random_state=1,max_depth=15)\n",
    "dt_model.fit(X_train,y_train)\n",
    "\n",
    "y_pred=dt_model.predict(X_test)\n",
    "np.mean(y_pred==y_test)"
   ]
  },
  {
   "cell_type": "code",
   "execution_count": 28,
   "id": "478066d9",
   "metadata": {},
   "outputs": [],
   "source": [
    "dt_acc=round(accuracy_score(y_test,y_pred),4)"
   ]
  },
  {
   "cell_type": "markdown",
   "id": "701214c9",
   "metadata": {},
   "source": [
    "### Random Forest"
   ]
  },
  {
   "cell_type": "code",
   "execution_count": 29,
   "id": "380903b2",
   "metadata": {},
   "outputs": [
    {
     "data": {
      "text/plain": [
       "0.9151515151515152"
      ]
     },
     "execution_count": 29,
     "metadata": {},
     "output_type": "execute_result"
    }
   ],
   "source": [
    "from sklearn.ensemble import RandomForestClassifier\n",
    "rf_model=RandomForestClassifier(random_state=1)\n",
    "rf_model.fit(X_train,y_train)\n",
    "\n",
    "y_pred=rf_model.predict(X_test)\n",
    "np.mean(y_pred==y_test)"
   ]
  },
  {
   "cell_type": "code",
   "execution_count": 30,
   "id": "e5250100",
   "metadata": {},
   "outputs": [],
   "source": [
    "rf_acc=round(accuracy_score(y_test,y_pred),4)"
   ]
  },
  {
   "cell_type": "markdown",
   "id": "7654d797",
   "metadata": {},
   "source": [
    "### Ada Boost"
   ]
  },
  {
   "cell_type": "code",
   "execution_count": 31,
   "id": "c9c7456d",
   "metadata": {},
   "outputs": [
    {
     "data": {
      "text/plain": [
       "0.9018181818181819"
      ]
     },
     "execution_count": 31,
     "metadata": {},
     "output_type": "execute_result"
    }
   ],
   "source": [
    "from sklearn.ensemble import AdaBoostClassifier\n",
    "ada_model=AdaBoostClassifier(random_state=1)\n",
    "ada_model.fit(X_train,y_train)\n",
    "\n",
    "y_pred=ada_model.predict(X_test)\n",
    "np.mean(y_pred==y_test)"
   ]
  },
  {
   "cell_type": "code",
   "execution_count": 32,
   "id": "9647eb4f",
   "metadata": {},
   "outputs": [],
   "source": [
    "ada_acc=round(accuracy_score(y_test,y_pred),4)"
   ]
  },
  {
   "cell_type": "markdown",
   "id": "8e52a9f5",
   "metadata": {},
   "source": [
    "### SVM with GridSearch"
   ]
  },
  {
   "cell_type": "code",
   "execution_count": 33,
   "id": "b09af7cb",
   "metadata": {},
   "outputs": [],
   "source": [
    "from sklearn.svm import SVC\n",
    "svc = SVC(random_state=1)\n",
    "\n",
    "svc_param = ({'C':[0.02,0.2,2,8],\n",
    "             'kernel':['linear', 'rbf', 'sigmoid'],\n",
    "             'gamma':['scale', 'auto']\n",
    "             })"
   ]
  },
  {
   "cell_type": "code",
   "execution_count": 34,
   "id": "1d7ec938",
   "metadata": {},
   "outputs": [
    {
     "name": "stdout",
     "output_type": "stream",
     "text": [
      "Fitting 5 folds for each of 24 candidates, totalling 120 fits\n",
      "[CV 1/5] END .............C=0.02, gamma=scale, kernel=linear; total time=   0.3s\n",
      "[CV 2/5] END .............C=0.02, gamma=scale, kernel=linear; total time=   0.3s\n",
      "[CV 3/5] END .............C=0.02, gamma=scale, kernel=linear; total time=   0.3s\n",
      "[CV 4/5] END .............C=0.02, gamma=scale, kernel=linear; total time=   0.3s\n",
      "[CV 5/5] END .............C=0.02, gamma=scale, kernel=linear; total time=   0.3s\n",
      "[CV 1/5] END ................C=0.02, gamma=scale, kernel=rbf; total time=   0.4s\n",
      "[CV 2/5] END ................C=0.02, gamma=scale, kernel=rbf; total time=   0.4s\n",
      "[CV 3/5] END ................C=0.02, gamma=scale, kernel=rbf; total time=   0.4s\n",
      "[CV 4/5] END ................C=0.02, gamma=scale, kernel=rbf; total time=   0.4s\n",
      "[CV 5/5] END ................C=0.02, gamma=scale, kernel=rbf; total time=   0.4s\n",
      "[CV 1/5] END ............C=0.02, gamma=scale, kernel=sigmoid; total time=   0.3s\n",
      "[CV 2/5] END ............C=0.02, gamma=scale, kernel=sigmoid; total time=   0.3s\n",
      "[CV 3/5] END ............C=0.02, gamma=scale, kernel=sigmoid; total time=   0.3s\n",
      "[CV 4/5] END ............C=0.02, gamma=scale, kernel=sigmoid; total time=   0.3s\n",
      "[CV 5/5] END ............C=0.02, gamma=scale, kernel=sigmoid; total time=   0.3s\n",
      "[CV 1/5] END ..............C=0.02, gamma=auto, kernel=linear; total time=   0.3s\n",
      "[CV 2/5] END ..............C=0.02, gamma=auto, kernel=linear; total time=   0.3s\n",
      "[CV 3/5] END ..............C=0.02, gamma=auto, kernel=linear; total time=   0.3s\n",
      "[CV 4/5] END ..............C=0.02, gamma=auto, kernel=linear; total time=   0.3s\n",
      "[CV 5/5] END ..............C=0.02, gamma=auto, kernel=linear; total time=   0.3s\n",
      "[CV 1/5] END .................C=0.02, gamma=auto, kernel=rbf; total time=   0.3s\n",
      "[CV 2/5] END .................C=0.02, gamma=auto, kernel=rbf; total time=   0.2s\n",
      "[CV 3/5] END .................C=0.02, gamma=auto, kernel=rbf; total time=   0.3s\n",
      "[CV 4/5] END .................C=0.02, gamma=auto, kernel=rbf; total time=   0.2s\n",
      "[CV 5/5] END .................C=0.02, gamma=auto, kernel=rbf; total time=   0.3s\n",
      "[CV 1/5] END .............C=0.02, gamma=auto, kernel=sigmoid; total time=   0.2s\n",
      "[CV 2/5] END .............C=0.02, gamma=auto, kernel=sigmoid; total time=   0.2s\n",
      "[CV 3/5] END .............C=0.02, gamma=auto, kernel=sigmoid; total time=   0.2s\n",
      "[CV 4/5] END .............C=0.02, gamma=auto, kernel=sigmoid; total time=   0.2s\n",
      "[CV 5/5] END .............C=0.02, gamma=auto, kernel=sigmoid; total time=   0.2s\n",
      "[CV 1/5] END ..............C=0.2, gamma=scale, kernel=linear; total time=   0.2s\n",
      "[CV 2/5] END ..............C=0.2, gamma=scale, kernel=linear; total time=   0.2s\n",
      "[CV 3/5] END ..............C=0.2, gamma=scale, kernel=linear; total time=   0.2s\n",
      "[CV 4/5] END ..............C=0.2, gamma=scale, kernel=linear; total time=   0.2s\n",
      "[CV 5/5] END ..............C=0.2, gamma=scale, kernel=linear; total time=   0.2s\n",
      "[CV 1/5] END .................C=0.2, gamma=scale, kernel=rbf; total time=   0.4s\n",
      "[CV 2/5] END .................C=0.2, gamma=scale, kernel=rbf; total time=   0.4s\n",
      "[CV 3/5] END .................C=0.2, gamma=scale, kernel=rbf; total time=   0.4s\n",
      "[CV 4/5] END .................C=0.2, gamma=scale, kernel=rbf; total time=   0.4s\n",
      "[CV 5/5] END .................C=0.2, gamma=scale, kernel=rbf; total time=   0.4s\n",
      "[CV 1/5] END .............C=0.2, gamma=scale, kernel=sigmoid; total time=   0.2s\n",
      "[CV 2/5] END .............C=0.2, gamma=scale, kernel=sigmoid; total time=   0.3s\n",
      "[CV 3/5] END .............C=0.2, gamma=scale, kernel=sigmoid; total time=   0.3s\n",
      "[CV 4/5] END .............C=0.2, gamma=scale, kernel=sigmoid; total time=   0.3s\n",
      "[CV 5/5] END .............C=0.2, gamma=scale, kernel=sigmoid; total time=   0.3s\n",
      "[CV 1/5] END ...............C=0.2, gamma=auto, kernel=linear; total time=   0.2s\n",
      "[CV 2/5] END ...............C=0.2, gamma=auto, kernel=linear; total time=   0.2s\n",
      "[CV 3/5] END ...............C=0.2, gamma=auto, kernel=linear; total time=   0.2s\n",
      "[CV 4/5] END ...............C=0.2, gamma=auto, kernel=linear; total time=   0.2s\n",
      "[CV 5/5] END ...............C=0.2, gamma=auto, kernel=linear; total time=   0.2s\n",
      "[CV 1/5] END ..................C=0.2, gamma=auto, kernel=rbf; total time=   0.3s\n",
      "[CV 2/5] END ..................C=0.2, gamma=auto, kernel=rbf; total time=   0.3s\n",
      "[CV 3/5] END ..................C=0.2, gamma=auto, kernel=rbf; total time=   0.3s\n",
      "[CV 4/5] END ..................C=0.2, gamma=auto, kernel=rbf; total time=   0.3s\n",
      "[CV 5/5] END ..................C=0.2, gamma=auto, kernel=rbf; total time=   0.3s\n",
      "[CV 1/5] END ..............C=0.2, gamma=auto, kernel=sigmoid; total time=   0.3s\n",
      "[CV 2/5] END ..............C=0.2, gamma=auto, kernel=sigmoid; total time=   0.3s\n",
      "[CV 3/5] END ..............C=0.2, gamma=auto, kernel=sigmoid; total time=   0.3s\n",
      "[CV 4/5] END ..............C=0.2, gamma=auto, kernel=sigmoid; total time=   0.3s\n",
      "[CV 5/5] END ..............C=0.2, gamma=auto, kernel=sigmoid; total time=   0.3s\n",
      "[CV 1/5] END ................C=2, gamma=scale, kernel=linear; total time=   0.3s\n",
      "[CV 2/5] END ................C=2, gamma=scale, kernel=linear; total time=   0.2s\n",
      "[CV 3/5] END ................C=2, gamma=scale, kernel=linear; total time=   0.2s\n",
      "[CV 4/5] END ................C=2, gamma=scale, kernel=linear; total time=   0.2s\n",
      "[CV 5/5] END ................C=2, gamma=scale, kernel=linear; total time=   0.2s\n",
      "[CV 1/5] END ...................C=2, gamma=scale, kernel=rbf; total time=   0.4s\n",
      "[CV 2/5] END ...................C=2, gamma=scale, kernel=rbf; total time=   0.4s\n",
      "[CV 3/5] END ...................C=2, gamma=scale, kernel=rbf; total time=   0.4s\n",
      "[CV 4/5] END ...................C=2, gamma=scale, kernel=rbf; total time=   0.5s\n",
      "[CV 5/5] END ...................C=2, gamma=scale, kernel=rbf; total time=   0.4s\n",
      "[CV 1/5] END ...............C=2, gamma=scale, kernel=sigmoid; total time=   0.1s\n",
      "[CV 2/5] END ...............C=2, gamma=scale, kernel=sigmoid; total time=   0.2s\n",
      "[CV 3/5] END ...............C=2, gamma=scale, kernel=sigmoid; total time=   0.1s\n",
      "[CV 4/5] END ...............C=2, gamma=scale, kernel=sigmoid; total time=   0.1s\n",
      "[CV 5/5] END ...............C=2, gamma=scale, kernel=sigmoid; total time=   0.1s\n",
      "[CV 1/5] END .................C=2, gamma=auto, kernel=linear; total time=   0.2s\n",
      "[CV 2/5] END .................C=2, gamma=auto, kernel=linear; total time=   0.2s\n",
      "[CV 3/5] END .................C=2, gamma=auto, kernel=linear; total time=   0.2s\n",
      "[CV 4/5] END .................C=2, gamma=auto, kernel=linear; total time=   0.2s\n",
      "[CV 5/5] END .................C=2, gamma=auto, kernel=linear; total time=   0.2s\n",
      "[CV 1/5] END ....................C=2, gamma=auto, kernel=rbf; total time=   0.3s\n",
      "[CV 2/5] END ....................C=2, gamma=auto, kernel=rbf; total time=   0.3s\n",
      "[CV 3/5] END ....................C=2, gamma=auto, kernel=rbf; total time=   0.3s\n",
      "[CV 4/5] END ....................C=2, gamma=auto, kernel=rbf; total time=   0.3s\n",
      "[CV 5/5] END ....................C=2, gamma=auto, kernel=rbf; total time=   0.3s\n",
      "[CV 1/5] END ................C=2, gamma=auto, kernel=sigmoid; total time=   0.3s\n",
      "[CV 2/5] END ................C=2, gamma=auto, kernel=sigmoid; total time=   0.3s\n",
      "[CV 3/5] END ................C=2, gamma=auto, kernel=sigmoid; total time=   0.3s\n",
      "[CV 4/5] END ................C=2, gamma=auto, kernel=sigmoid; total time=   0.3s\n",
      "[CV 5/5] END ................C=2, gamma=auto, kernel=sigmoid; total time=   0.3s\n",
      "[CV 1/5] END ................C=8, gamma=scale, kernel=linear; total time=   0.2s\n",
      "[CV 2/5] END ................C=8, gamma=scale, kernel=linear; total time=   0.2s\n",
      "[CV 3/5] END ................C=8, gamma=scale, kernel=linear; total time=   0.2s\n",
      "[CV 4/5] END ................C=8, gamma=scale, kernel=linear; total time=   0.2s\n",
      "[CV 5/5] END ................C=8, gamma=scale, kernel=linear; total time=   0.2s\n",
      "[CV 1/5] END ...................C=8, gamma=scale, kernel=rbf; total time=   0.4s\n",
      "[CV 2/5] END ...................C=8, gamma=scale, kernel=rbf; total time=   0.5s\n",
      "[CV 3/5] END ...................C=8, gamma=scale, kernel=rbf; total time=   0.6s\n",
      "[CV 4/5] END ...................C=8, gamma=scale, kernel=rbf; total time=   0.4s\n",
      "[CV 5/5] END ...................C=8, gamma=scale, kernel=rbf; total time=   0.4s\n",
      "[CV 1/5] END ...............C=8, gamma=scale, kernel=sigmoid; total time=   0.1s\n"
     ]
    },
    {
     "name": "stdout",
     "output_type": "stream",
     "text": [
      "[CV 2/5] END ...............C=8, gamma=scale, kernel=sigmoid; total time=   0.1s\n",
      "[CV 3/5] END ...............C=8, gamma=scale, kernel=sigmoid; total time=   0.1s\n",
      "[CV 4/5] END ...............C=8, gamma=scale, kernel=sigmoid; total time=   0.1s\n",
      "[CV 5/5] END ...............C=8, gamma=scale, kernel=sigmoid; total time=   0.1s\n",
      "[CV 1/5] END .................C=8, gamma=auto, kernel=linear; total time=   0.2s\n",
      "[CV 2/5] END .................C=8, gamma=auto, kernel=linear; total time=   0.2s\n",
      "[CV 3/5] END .................C=8, gamma=auto, kernel=linear; total time=   0.2s\n",
      "[CV 4/5] END .................C=8, gamma=auto, kernel=linear; total time=   0.2s\n",
      "[CV 5/5] END .................C=8, gamma=auto, kernel=linear; total time=   0.2s\n",
      "[CV 1/5] END ....................C=8, gamma=auto, kernel=rbf; total time=   0.3s\n",
      "[CV 2/5] END ....................C=8, gamma=auto, kernel=rbf; total time=   0.3s\n",
      "[CV 3/5] END ....................C=8, gamma=auto, kernel=rbf; total time=   0.3s\n",
      "[CV 4/5] END ....................C=8, gamma=auto, kernel=rbf; total time=   0.3s\n",
      "[CV 5/5] END ....................C=8, gamma=auto, kernel=rbf; total time=   0.3s\n",
      "[CV 1/5] END ................C=8, gamma=auto, kernel=sigmoid; total time=   0.3s\n",
      "[CV 2/5] END ................C=8, gamma=auto, kernel=sigmoid; total time=   0.3s\n",
      "[CV 3/5] END ................C=8, gamma=auto, kernel=sigmoid; total time=   0.3s\n",
      "[CV 4/5] END ................C=8, gamma=auto, kernel=sigmoid; total time=   0.3s\n",
      "[CV 5/5] END ................C=8, gamma=auto, kernel=sigmoid; total time=   0.3s\n"
     ]
    },
    {
     "data": {
      "text/plain": [
       "GridSearchCV(cv=5, estimator=SVC(random_state=1),\n",
       "             param_grid={'C': [0.02, 0.2, 2, 8], 'gamma': ['scale', 'auto'],\n",
       "                         'kernel': ['linear', 'rbf', 'sigmoid']},\n",
       "             verbose=5)"
      ]
     },
     "execution_count": 34,
     "metadata": {},
     "output_type": "execute_result"
    }
   ],
   "source": [
    "#Grid Search CV:\n",
    "from sklearn.model_selection import GridSearchCV\n",
    "grid_cv = GridSearchCV(svc, param_grid=svc_param, cv=5,verbose=5)\n",
    "grid_cv.fit(X_train,y_train)"
   ]
  },
  {
   "cell_type": "code",
   "execution_count": 35,
   "id": "91ed9f89",
   "metadata": {},
   "outputs": [
    {
     "data": {
      "text/plain": [
       "{'C': 2, 'gamma': 'scale', 'kernel': 'linear'}"
      ]
     },
     "execution_count": 35,
     "metadata": {},
     "output_type": "execute_result"
    }
   ],
   "source": [
    "grid_cv.best_params_"
   ]
  },
  {
   "cell_type": "code",
   "execution_count": 36,
   "id": "6441c4fe",
   "metadata": {},
   "outputs": [
    {
     "data": {
      "text/plain": [
       "0.9563636363636364"
      ]
     },
     "execution_count": 36,
     "metadata": {},
     "output_type": "execute_result"
    }
   ],
   "source": [
    "grid_svc_pred = grid_cv.predict(X_test)\n",
    "np.mean(grid_svc_pred==y_test)"
   ]
  },
  {
   "cell_type": "code",
   "execution_count": 37,
   "id": "c74ecee5",
   "metadata": {},
   "outputs": [],
   "source": [
    "svc=SVC(C= 2, gamma= 'scale', kernel= 'linear')\n",
    "svc.fit(X_train,y_train)\n",
    "y_pred=svc.predict(X_test)"
   ]
  },
  {
   "cell_type": "code",
   "execution_count": 38,
   "id": "8ad6e788",
   "metadata": {},
   "outputs": [
    {
     "name": "stdout",
     "output_type": "stream",
     "text": [
      "              precision    recall  f1-score   support\n",
      "\n",
      "           0       0.83      0.73      0.78        55\n",
      "           1       0.91      0.98      0.95       230\n",
      "           2       0.99      0.97      0.98       540\n",
      "\n",
      "    accuracy                           0.96       825\n",
      "   macro avg       0.91      0.89      0.90       825\n",
      "weighted avg       0.96      0.96      0.96       825\n",
      "\n"
     ]
    }
   ],
   "source": [
    "print(classification_report(y_test,y_pred))"
   ]
  },
  {
   "cell_type": "code",
   "execution_count": 39,
   "id": "3bd096a1",
   "metadata": {},
   "outputs": [],
   "source": [
    "svc_acc=round(accuracy_score(y_test,y_pred),4)"
   ]
  },
  {
   "cell_type": "code",
   "execution_count": 40,
   "id": "1fc49b11",
   "metadata": {},
   "outputs": [],
   "source": [
    "data=[['Multinomial Naive Bayes',nb_acc],['Logistic Regression',lr_acc],['Decision Tree',dt_acc],['Random Forest',rf_acc],\n",
    "      ['Ada Boost',ada_acc],['Support Vector Classifier',svc_acc]]\n",
    "\n",
    "df=pd.DataFrame(data,columns=['Model','test_accuracy'])"
   ]
  },
  {
   "cell_type": "code",
   "execution_count": 41,
   "id": "1f7183fc",
   "metadata": {},
   "outputs": [
    {
     "data": {
      "text/html": [
       "<div>\n",
       "<style scoped>\n",
       "    .dataframe tbody tr th:only-of-type {\n",
       "        vertical-align: middle;\n",
       "    }\n",
       "\n",
       "    .dataframe tbody tr th {\n",
       "        vertical-align: top;\n",
       "    }\n",
       "\n",
       "    .dataframe thead th {\n",
       "        text-align: right;\n",
       "    }\n",
       "</style>\n",
       "<table border=\"1\" class=\"dataframe\">\n",
       "  <thead>\n",
       "    <tr style=\"text-align: right;\">\n",
       "      <th></th>\n",
       "      <th>Model</th>\n",
       "      <th>test_accuracy</th>\n",
       "    </tr>\n",
       "  </thead>\n",
       "  <tbody>\n",
       "    <tr>\n",
       "      <th>0</th>\n",
       "      <td>Multinomial Naive Bayes</td>\n",
       "      <td>0.7491</td>\n",
       "    </tr>\n",
       "    <tr>\n",
       "      <th>1</th>\n",
       "      <td>Logistic Regression</td>\n",
       "      <td>0.9358</td>\n",
       "    </tr>\n",
       "    <tr>\n",
       "      <th>2</th>\n",
       "      <td>Decision Tree</td>\n",
       "      <td>0.8691</td>\n",
       "    </tr>\n",
       "    <tr>\n",
       "      <th>3</th>\n",
       "      <td>Random Forest</td>\n",
       "      <td>0.9152</td>\n",
       "    </tr>\n",
       "    <tr>\n",
       "      <th>4</th>\n",
       "      <td>Ada Boost</td>\n",
       "      <td>0.9018</td>\n",
       "    </tr>\n",
       "    <tr>\n",
       "      <th>5</th>\n",
       "      <td>Support Vector Classifier</td>\n",
       "      <td>0.9564</td>\n",
       "    </tr>\n",
       "  </tbody>\n",
       "</table>\n",
       "</div>"
      ],
      "text/plain": [
       "                       Model  test_accuracy\n",
       "0    Multinomial Naive Bayes         0.7491\n",
       "1        Logistic Regression         0.9358\n",
       "2              Decision Tree         0.8691\n",
       "3              Random Forest         0.9152\n",
       "4                  Ada Boost         0.9018\n",
       "5  Support Vector Classifier         0.9564"
      ]
     },
     "execution_count": 41,
     "metadata": {},
     "output_type": "execute_result"
    }
   ],
   "source": [
    "df"
   ]
  },
  {
   "cell_type": "code",
   "execution_count": 42,
   "id": "a3187eb7",
   "metadata": {},
   "outputs": [
    {
     "name": "stdout",
     "output_type": "stream",
     "text": [
      "[[ 40   8   7]\n",
      " [  5 225   0]\n",
      " [  3  13 524]]\n"
     ]
    }
   ],
   "source": [
    "print(confusion_matrix(y_test,y_pred))"
   ]
  },
  {
   "cell_type": "code",
   "execution_count": 43,
   "id": "84e674af",
   "metadata": {},
   "outputs": [
    {
     "name": "stdout",
     "output_type": "stream",
     "text": [
      "              precision    recall  f1-score   support\n",
      "\n",
      "           0       0.83      0.73      0.78        55\n",
      "           1       0.91      0.98      0.95       230\n",
      "           2       0.99      0.97      0.98       540\n",
      "\n",
      "    accuracy                           0.96       825\n",
      "   macro avg       0.91      0.89      0.90       825\n",
      "weighted avg       0.96      0.96      0.96       825\n",
      "\n"
     ]
    }
   ],
   "source": [
    "print(classification_report(y_test,y_pred))"
   ]
  },
  {
   "cell_type": "markdown",
   "id": "b7a5d63a",
   "metadata": {},
   "source": [
    "### Manually Testing the Model"
   ]
  },
  {
   "cell_type": "code",
   "execution_count": 44,
   "id": "4e888acb",
   "metadata": {},
   "outputs": [
    {
     "name": "stdout",
     "output_type": "stream",
     "text": [
      "Please enter a review for which sentiment needs to be predicted:\n",
      "Amazon Echo Dot Review With more and more smart speakers popping up on the market, the consumer has more choices to choose from. The Amazon Echo Dot Fourth Generation allows the user to listen to music, complete tasks, and more by saying one word. The Amazon Echo Dot Fourth Generation is the overall best small smart speaker in the market, because of its great sound quality, accessibility, and affordable price tag. Firstly, the Amazon Echo Dot or just Echo Dot for short, provides great sound quality for when listening to music, listening to the news, or just communicating with the Echo Dot, that is incomparable to others. This is mainly due to the front firing speaker system that allows the rather small device to disperse the sound waves to all walls of a room. When placed in a room, the smart speaker can provide immersive sound that will instantaneously lighten the mood. The latest Echo Dot has much better speaker quality than its prior generations, and in my opinion than most of its competitors. The speaker will help in even the most simple of tasks, such as an alarm. The sound quality allows users to be woken up with their favorite song, with just the right amount of sound. The sound quality of the Echo Dot is a key feature of why it is best, and could be a major breaking point in purchasing the Amazon Echo Dot. Additionally, the Amazon Echo Dot incorporates a simple yet powerful word that can allow your house and surroundings to access technology, unlike its competitors. The wake word, “Alexa,” opens the Echo Dot to many possibilities. From this simple word and a subsequent phrase, the smart speaker may do common household things like telling the user the weather. The great thing about the Echo Dot is that it connects to many third party applications and devices. For example, it may connect to the user's light bulb to allow for a command to turn on the light. Pairing eligible third party devices with the smart speaker is so simple, due to its intuitive app. By connecting the device with third party devices, you may create commands such as, “Alexa, open the garage,” that makes day to day so much more simple. Echo dot also has the capability of grouping commands. I use, “Alexa turn on the house,” to turn on all of the lights in my household without separately turning each light on. This key feature of being able to access the appliances of your household by saying one word to a device, is something that sets the Echo Dot apart from its competition. Lastly, at a low cost, the Amazon Echo Dot provides the user with top end functionality without the hefty price. Compared to its competitors, the Echo Dot provides many more features that allow for a great total experience. For many future smart speaker buyers, the price may scare them away. Luckily, at a price of fifty U.S. dollars, that goes on sale frequently, the Echo Dot is one of the most affordable high-tech smart speakers in the market. I personally got my Echo Dot on sale for twenty-five U.S. dollars, which just shows that the Echo Dot will go on sale. The price of the smart speaker does not take away any aspects of the device, but instead adds on to why the device should be purchased. The price of the Echo Dot, is a major reason why the device is superior to its competitors, and of why it is the best small smart speaker. The Amazon Echo Dot Fourth Generation is the best overall small smart speaker in the market, because of its great sound quality, accessibility, and affordable price tag. The information above shows that the Echo Dot is a product unlike any other. Its immersive sound is of another level, and it's accessibility that may connect the house of the user is something that cannot be done any more simply. All of this for the slim price tag is why I, and many others, highly suggest that the Amazon Echo Dot Fourth Generation is the best overall small smart speaker in the current market.\n"
     ]
    }
   ],
   "source": [
    "test=input('Please enter a review for which sentiment needs to be predicted:\\n')"
   ]
  },
  {
   "cell_type": "code",
   "execution_count": 45,
   "id": "8fd8c51c",
   "metadata": {},
   "outputs": [],
   "source": [
    "def decontracted(phrase):\n",
    "    # specific\n",
    "    phrase = re.sub(r\"won\\'t\", \"will not\", phrase)\n",
    "    phrase = re.sub(r\"can\\'t\", \"can not\", phrase)\n",
    "    phrase = re.sub(r\"couldn\\'t\", \"could not\", phrase)\n",
    "\n",
    "    # general\n",
    "    phrase = re.sub(r\"n\\'t\", \" not\", phrase)\n",
    "    phrase = re.sub(r\"\\'re\", \" are\", phrase)\n",
    "    phrase = re.sub(r\"\\'s\", \" is\", phrase)\n",
    "    phrase = re.sub(r\"\\'d\", \" would\", phrase)\n",
    "    phrase = re.sub(r\"\\'ll\", \" will\", phrase)\n",
    "    phrase = re.sub(r\"\\'t\", \" not\", phrase)\n",
    "    phrase = re.sub(r\"\\'ve\", \" have\", phrase)\n",
    "    phrase = re.sub(r\"\\'m\", \" am\", phrase)\n",
    "    return phrase\n",
    "\n",
    "from nltk.corpus import stopwords\n",
    "def cleaning(text):\n",
    "    corpus = []\n",
    "    text = decontracted(text)\n",
    "    text = text.lower()                              #lowering the text\n",
    "    text = re.sub(r'#\\S+','',text)                   #Remove the hyper link\n",
    "    text = re.sub('[^a-z]',' ',text)              #Remove the character other than alphabet\n",
    "    text = text.split()\n",
    "    text=[ps.stem(word) for word in text if word not in stopwords.words('english')]\n",
    "    text=' '.join(text)\n",
    "    corpus.append(text)\n",
    "    return corpus"
   ]
  },
  {
   "cell_type": "code",
   "execution_count": 46,
   "id": "24214262",
   "metadata": {},
   "outputs": [
    {
     "data": {
      "text/plain": [
       "list"
      ]
     },
     "execution_count": 46,
     "metadata": {},
     "output_type": "execute_result"
    }
   ],
   "source": [
    "review_cleaned=cleaning(test)\n",
    "type(review_cleaned)"
   ]
  },
  {
   "cell_type": "code",
   "execution_count": 47,
   "id": "4390aa48",
   "metadata": {},
   "outputs": [
    {
     "data": {
      "text/plain": [
       "['amazon echo dot review smart speaker pop market consum choic choos amazon echo dot fourth gener allow user listen music complet task say one word amazon echo dot fourth gener overal best small smart speaker market great sound qualiti access afford price tag firstli amazon echo dot echo dot short provid great sound qualiti listen music listen news commun echo dot incompar other mainli due front fire speaker system allow rather small devic dispers sound wave wall room place room smart speaker provid immers sound instantan lighten mood latest echo dot much better speaker qualiti prior gener opinion competitor speaker help even simpl task alarm sound qualiti allow user woken favorit song right amount sound sound qualiti echo dot key featur best could major break point purchas amazon echo dot addit amazon echo dot incorpor simpl yet power word allow hous surround access technolog unlik competitor wake word alexa open echo dot mani possibl simpl word subsequ phrase smart speaker may common household thing like tell user weather great thing echo dot connect mani third parti applic devic exampl may connect user light bulb allow command turn light pair elig third parti devic smart speaker simpl due intuit app connect devic third parti devic may creat command alexa open garag make day day much simpl echo dot also capabl group command use alexa turn hous turn light household without separ turn light key featur abl access applianc household say one word devic someth set echo dot apart competit lastli low cost amazon echo dot provid user top end function without hefti price compar competitor echo dot provid mani featur allow great total experi mani futur smart speaker buyer price may scare away luckili price fifti u dollar goe sale frequent echo dot one afford high tech smart speaker market person got echo dot sale twenti five u dollar show echo dot go sale price smart speaker take away aspect devic instead add devic purchas price echo dot major reason devic superior competitor best small smart speaker amazon echo dot fourth gener best overal small smart speaker market great sound qualiti access afford price tag inform show echo dot product unlik immers sound anoth level access may connect hous user someth cannot done simpli slim price tag mani other highli suggest amazon echo dot fourth gener best overal small smart speaker current market']"
      ]
     },
     "execution_count": 47,
     "metadata": {},
     "output_type": "execute_result"
    }
   ],
   "source": [
    "review_cleaned"
   ]
  },
  {
   "cell_type": "code",
   "execution_count": 48,
   "id": "5205715d",
   "metadata": {},
   "outputs": [
    {
     "name": "stdout",
     "output_type": "stream",
     "text": [
      "Positive\n"
     ]
    }
   ],
   "source": [
    "df=cv.transform(review_cleaned).toarray()\n",
    "pred=svc.predict(df)\n",
    "label=pred[0]\n",
    "\n",
    "if label==2:\n",
    "    print('Positive')\n",
    "elif label==0:\n",
    "    print('Negative')\n",
    "else:\n",
    "    print('Neutral')"
   ]
  },
  {
   "cell_type": "markdown",
   "id": "97eb8f27",
   "metadata": {},
   "source": [
    "### Saving the model"
   ]
  },
  {
   "cell_type": "code",
   "execution_count": 50,
   "id": "19caa326",
   "metadata": {},
   "outputs": [],
   "source": [
    "from pickle import dump\n",
    "dump(cv,open('pickle/countvectorizer.pkl','wb'))\n",
    "dump(svc,open('pickle/model.pkl','wb'))"
   ]
  },
  {
   "cell_type": "markdown",
   "id": "4c681919",
   "metadata": {},
   "source": [
    "### Predicting new review"
   ]
  },
  {
   "cell_type": "code",
   "execution_count": 56,
   "id": "14de0db0",
   "metadata": {},
   "outputs": [],
   "source": [
    "def decontracted(phrase):\n",
    "    # specific\n",
    "    phrase = re.sub(r\"won\\'t\", \"will not\", phrase)\n",
    "    phrase = re.sub(r\"can\\'t\", \"can not\", phrase)\n",
    "    phrase = re.sub(r\"couldn\\'t\", \"could not\", phrase)\n",
    "\n",
    "    # general\n",
    "    phrase = re.sub(r\"n\\'t\", \" not\", phrase)\n",
    "    phrase = re.sub(r\"\\'re\", \" are\", phrase)\n",
    "    phrase = re.sub(r\"\\'s\", \" is\", phrase)\n",
    "    phrase = re.sub(r\"\\'d\", \" would\", phrase)\n",
    "    phrase = re.sub(r\"\\'ll\", \" will\", phrase)\n",
    "    phrase = re.sub(r\"\\'t\", \" not\", phrase)\n",
    "    phrase = re.sub(r\"\\'ve\", \" have\", phrase)\n",
    "    phrase = re.sub(r\"\\'m\", \" am\", phrase)\n",
    "    return phrase\n",
    "\n",
    "from nltk.corpus import stopwords\n",
    "def cleaning(text):\n",
    "    corpus = []\n",
    "    text = decontracted(text)\n",
    "    text = text.lower()                              #lowering the text\n",
    "    text = re.sub(r'#\\S+','',text)                   #Remove the hyper link\n",
    "    text = re.sub('[^a-z]',' ',text)              #Remove the character other than alphabet\n",
    "    text = text.split()\n",
    "    text=[ps.stem(word) for word in text if word not in stopwords.words('english')]\n",
    "    text=' '.join(text)\n",
    "    corpus.append(text)\n",
    "    return corpus"
   ]
  },
  {
   "cell_type": "code",
   "execution_count": 57,
   "id": "9e74276a",
   "metadata": {},
   "outputs": [],
   "source": [
    "from pickle import load\n",
    "\n",
    "def predict(input_review):\n",
    "    vectorizer=load(open('pickle/countvectorizer.pkl','rb'))\n",
    "    classifier=load(open('pickle/model.pkl','rb'))\n",
    "    clean_text=cleaning(input_review)\n",
    "    vec_clean_text=vectorizer.transform(clean_text)\n",
    "    vec_array=vec_clean_text.toarray()\n",
    "    prediction=classifier.predict(vec_array)\n",
    "    return prediction"
   ]
  },
  {
   "cell_type": "code",
   "execution_count": 67,
   "id": "9ea17117",
   "metadata": {},
   "outputs": [
    {
     "name": "stdout",
     "output_type": "stream",
     "text": [
      "My mother has very poor eye sight and complications compounded when she had a stroke. To help with her need for communication with family and friends I installed a couple of Amazon echo dots. All she had to do was say the wake word and tell it to call _______ . This worked well until she wanted to call some one that was not on her original \"10\" contacts. The \"10\" contacts were swapped out to another \"10\" contacts (friends) not knowing that this would eliminate the prospects of ever calling any of her original contacts ( sons, daughters in laws, medical,....). Sense I'm one of emergency contacts and dropped from her list I'm very upset with the device, programers, the tech team from the store where I bought it......pretty much everyone involved with the problems brought on to a 86 year old with medical conditions that limit her ability to stay in touch with her world. REVIEW: 👎 VERY POOR DEVICE THAT LIMITS AND INHIBITS COMMUNICATION FOR AN ELDERLY WOMAN WITH MEDICAL CONDITIONS\n"
     ]
    }
   ],
   "source": [
    "input_review=input()"
   ]
  },
  {
   "cell_type": "code",
   "execution_count": 68,
   "id": "baf1d185",
   "metadata": {},
   "outputs": [],
   "source": [
    "prediction = predict(input_review)"
   ]
  },
  {
   "cell_type": "code",
   "execution_count": 69,
   "id": "888806ef",
   "metadata": {},
   "outputs": [
    {
     "name": "stdout",
     "output_type": "stream",
     "text": [
      "Negative\n"
     ]
    }
   ],
   "source": [
    "if prediction==2:\n",
    "    print('Positive')\n",
    "elif prediction==0:\n",
    "    print('Negative')\n",
    "else:\n",
    "    print('Neutral')"
   ]
  },
  {
   "cell_type": "code",
   "execution_count": null,
   "id": "81cb5abc",
   "metadata": {},
   "outputs": [],
   "source": []
  }
 ],
 "metadata": {
  "kernelspec": {
   "display_name": "Python 3",
   "language": "python",
   "name": "python3"
  },
  "language_info": {
   "codemirror_mode": {
    "name": "ipython",
    "version": 3
   },
   "file_extension": ".py",
   "mimetype": "text/x-python",
   "name": "python",
   "nbconvert_exporter": "python",
   "pygments_lexer": "ipython3",
   "version": "3.8.8"
  }
 },
 "nbformat": 4,
 "nbformat_minor": 5
}
